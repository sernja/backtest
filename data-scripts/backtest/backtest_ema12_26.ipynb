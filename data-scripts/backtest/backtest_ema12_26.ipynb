{
 "cells": [
  {
   "cell_type": "code",
   "execution_count": 1,
   "metadata": {},
   "outputs": [],
   "source": [
    "import pandas as pd\n",
    "import matplotlib.pyplot as plt\n",
    "import numpy as np"
   ]
  },
  {
   "cell_type": "code",
   "execution_count": 2,
   "metadata": {
    "scrolled": true
   },
   "outputs": [
    {
     "data": {
      "text/html": [
       "<div>\n",
       "<style scoped>\n",
       "    .dataframe tbody tr th:only-of-type {\n",
       "        vertical-align: middle;\n",
       "    }\n",
       "\n",
       "    .dataframe tbody tr th {\n",
       "        vertical-align: top;\n",
       "    }\n",
       "\n",
       "    .dataframe thead th {\n",
       "        text-align: right;\n",
       "    }\n",
       "</style>\n",
       "<table border=\"1\" class=\"dataframe\">\n",
       "  <thead>\n",
       "    <tr style=\"text-align: right;\">\n",
       "      <th></th>\n",
       "      <th>T</th>\n",
       "      <th>O</th>\n",
       "      <th>H</th>\n",
       "      <th>L</th>\n",
       "      <th>C</th>\n",
       "      <th>V</th>\n",
       "    </tr>\n",
       "  </thead>\n",
       "  <tbody>\n",
       "    <tr>\n",
       "      <th>0</th>\n",
       "      <td>2015-09-25 12:00:00</td>\n",
       "      <td>239.99</td>\n",
       "      <td>239.99</td>\n",
       "      <td>236.08</td>\n",
       "      <td>236.34</td>\n",
       "      <td>51560</td>\n",
       "    </tr>\n",
       "    <tr>\n",
       "      <th>1</th>\n",
       "      <td>2015-09-25 16:00:00</td>\n",
       "      <td>236.34</td>\n",
       "      <td>236.21</td>\n",
       "      <td>235.44</td>\n",
       "      <td>236.10</td>\n",
       "      <td>102126</td>\n",
       "    </tr>\n",
       "    <tr>\n",
       "      <th>2</th>\n",
       "      <td>2015-09-25 20:00:00</td>\n",
       "      <td>236.10</td>\n",
       "      <td>236.12</td>\n",
       "      <td>234.81</td>\n",
       "      <td>235.18</td>\n",
       "      <td>33254</td>\n",
       "    </tr>\n",
       "    <tr>\n",
       "      <th>3</th>\n",
       "      <td>2015-09-26 00:00:00</td>\n",
       "      <td>235.18</td>\n",
       "      <td>235.36</td>\n",
       "      <td>234.90</td>\n",
       "      <td>234.90</td>\n",
       "      <td>5351</td>\n",
       "    </tr>\n",
       "    <tr>\n",
       "      <th>4</th>\n",
       "      <td>2015-09-26 04:00:00</td>\n",
       "      <td>234.90</td>\n",
       "      <td>235.11</td>\n",
       "      <td>233.30</td>\n",
       "      <td>234.17</td>\n",
       "      <td>17024</td>\n",
       "    </tr>\n",
       "    <tr>\n",
       "      <th>...</th>\n",
       "      <td>...</td>\n",
       "      <td>...</td>\n",
       "      <td>...</td>\n",
       "      <td>...</td>\n",
       "      <td>...</td>\n",
       "      <td>...</td>\n",
       "    </tr>\n",
       "    <tr>\n",
       "      <th>11784</th>\n",
       "      <td>2021-02-09 12:00:00</td>\n",
       "      <td>45730.00</td>\n",
       "      <td>46860.00</td>\n",
       "      <td>45073.50</td>\n",
       "      <td>46709.00</td>\n",
       "      <td>747788491</td>\n",
       "    </tr>\n",
       "    <tr>\n",
       "      <th>11785</th>\n",
       "      <td>2021-02-09 16:00:00</td>\n",
       "      <td>46709.00</td>\n",
       "      <td>47468.00</td>\n",
       "      <td>46046.00</td>\n",
       "      <td>47069.50</td>\n",
       "      <td>543384249</td>\n",
       "    </tr>\n",
       "    <tr>\n",
       "      <th>11786</th>\n",
       "      <td>2021-02-09 20:00:00</td>\n",
       "      <td>47069.50</td>\n",
       "      <td>47630.50</td>\n",
       "      <td>46520.00</td>\n",
       "      <td>46917.00</td>\n",
       "      <td>340348908</td>\n",
       "    </tr>\n",
       "    <tr>\n",
       "      <th>11787</th>\n",
       "      <td>2021-02-10 00:00:00</td>\n",
       "      <td>46917.00</td>\n",
       "      <td>46955.50</td>\n",
       "      <td>46070.00</td>\n",
       "      <td>46406.50</td>\n",
       "      <td>304709416</td>\n",
       "    </tr>\n",
       "    <tr>\n",
       "      <th>11788</th>\n",
       "      <td>2021-02-10 04:00:00</td>\n",
       "      <td>46406.50</td>\n",
       "      <td>46855.00</td>\n",
       "      <td>45727.00</td>\n",
       "      <td>46630.50</td>\n",
       "      <td>340433435</td>\n",
       "    </tr>\n",
       "  </tbody>\n",
       "</table>\n",
       "<p>11789 rows × 6 columns</p>\n",
       "</div>"
      ],
      "text/plain": [
       "                         T         O         H         L         C          V\n",
       "0      2015-09-25 12:00:00    239.99    239.99    236.08    236.34      51560\n",
       "1      2015-09-25 16:00:00    236.34    236.21    235.44    236.10     102126\n",
       "2      2015-09-25 20:00:00    236.10    236.12    234.81    235.18      33254\n",
       "3      2015-09-26 00:00:00    235.18    235.36    234.90    234.90       5351\n",
       "4      2015-09-26 04:00:00    234.90    235.11    233.30    234.17      17024\n",
       "...                    ...       ...       ...       ...       ...        ...\n",
       "11784  2021-02-09 12:00:00  45730.00  46860.00  45073.50  46709.00  747788491\n",
       "11785  2021-02-09 16:00:00  46709.00  47468.00  46046.00  47069.50  543384249\n",
       "11786  2021-02-09 20:00:00  47069.50  47630.50  46520.00  46917.00  340348908\n",
       "11787  2021-02-10 00:00:00  46917.00  46955.50  46070.00  46406.50  304709416\n",
       "11788  2021-02-10 04:00:00  46406.50  46855.00  45727.00  46630.50  340433435\n",
       "\n",
       "[11789 rows x 6 columns]"
      ]
     },
     "execution_count": 2,
     "metadata": {},
     "output_type": "execute_result"
    }
   ],
   "source": [
    "df = pd.read_csv('xbtusd_4H.csv')\n",
    "df"
   ]
  },
  {
   "cell_type": "markdown",
   "metadata": {},
   "source": [
    "## ema form close price"
   ]
  },
  {
   "cell_type": "code",
   "execution_count": 3,
   "metadata": {},
   "outputs": [],
   "source": [
    "df['ema12'] = df['C'].ewm(span=12, adjust=False).mean()\n",
    "df['ema26'] = df['C'].ewm(span=26, adjust=False).mean()"
   ]
  },
  {
   "cell_type": "code",
   "execution_count": 4,
   "metadata": {},
   "outputs": [
    {
     "data": {
      "text/plain": [
       "<matplotlib.legend.Legend at 0x1bd56aaa608>"
      ]
     },
     "execution_count": 4,
     "metadata": {},
     "output_type": "execute_result"
    },
    {
     "data": {
      "image/png": "[encoded data removed]",
      "text/plain": [
       "<Figure size 432x288 with 1 Axes>"
      ]
     },
     "metadata": {
      "needs_background": "light"
     },
     "output_type": "display_data"
    }
   ],
   "source": [
    "# plt.plot(df['C'], label='C')\n",
    "plt.plot(df['ema12'], label='ema12')\n",
    "plt.plot(df['ema26'], label='ema26')\n",
    "plt.legend(loc=2)"
   ]
  },
  {
   "cell_type": "markdown",
   "metadata": {},
   "source": [
    "## mark point ema12, 26 cross"
   ]
  },
  {
   "cell_type": "code",
   "execution_count": 41,
   "metadata": {},
   "outputs": [
    {
     "ename": "KeyError",
     "evalue": "'ema12'",
     "output_type": "error",
     "traceback": [
      "\u001b[1;31m---------------------------------------------------------------------------\u001b[0m",
      "\u001b[1;31mKeyError\u001b[0m                                  Traceback (most recent call last)",
      "\u001b[1;32m~\\anaconda3\\lib\\site-packages\\pandas\\core\\indexes\\base.py\u001b[0m in \u001b[0;36mget_loc\u001b[1;34m(self, key, method, tolerance)\u001b[0m\n\u001b[0;32m   2645\u001b[0m             \u001b[1;32mtry\u001b[0m\u001b[1;33m:\u001b[0m\u001b[1;33m\u001b[0m\u001b[1;33m\u001b[0m\u001b[0m\n\u001b[1;32m-> 2646\u001b[1;33m                 \u001b[1;32mreturn\u001b[0m \u001b[0mself\u001b[0m\u001b[1;33m.\u001b[0m\u001b[0m_engine\u001b[0m\u001b[1;33m.\u001b[0m\u001b[0mget_loc\u001b[0m\u001b[1;33m(\u001b[0m\u001b[0mkey\u001b[0m\u001b[1;33m)\u001b[0m\u001b[1;33m\u001b[0m\u001b[1;33m\u001b[0m\u001b[0m\n\u001b[0m\u001b[0;32m   2647\u001b[0m             \u001b[1;32mexcept\u001b[0m \u001b[0mKeyError\u001b[0m\u001b[1;33m:\u001b[0m\u001b[1;33m\u001b[0m\u001b[1;33m\u001b[0m\u001b[0m\n",
      "\u001b[1;32mpandas\\_libs\\index.pyx\u001b[0m in \u001b[0;36mpandas._libs.index.IndexEngine.get_loc\u001b[1;34m()\u001b[0m\n",
      "\u001b[1;32mpandas\\_libs\\index.pyx\u001b[0m in \u001b[0;36mpandas._libs.index.IndexEngine.get_loc\u001b[1;34m()\u001b[0m\n",
      "\u001b[1;32mpandas\\_libs\\hashtable_class_helper.pxi\u001b[0m in \u001b[0;36mpandas._libs.hashtable.PyObjectHashTable.get_item\u001b[1;34m()\u001b[0m\n",
      "\u001b[1;32mpandas\\_libs\\hashtable_class_helper.pxi\u001b[0m in \u001b[0;36mpandas._libs.hashtable.PyObjectHashTable.get_item\u001b[1;34m()\u001b[0m\n",
      "\u001b[1;31mKeyError\u001b[0m: 'ema12'",
      "\nDuring handling of the above exception, another exception occurred:\n",
      "\u001b[1;31mKeyError\u001b[0m                                  Traceback (most recent call last)",
      "\u001b[1;32m<ipython-input-41-7a43254d4348>\u001b[0m in \u001b[0;36m<module>\u001b[1;34m\u001b[0m\n\u001b[1;32m----> 1\u001b[1;33m \u001b[0mdf\u001b[0m\u001b[1;33m[\u001b[0m\u001b[1;34m'Buy'\u001b[0m\u001b[1;33m]\u001b[0m \u001b[1;33m=\u001b[0m \u001b[0mnp\u001b[0m\u001b[1;33m.\u001b[0m\u001b[0mwhere\u001b[0m\u001b[1;33m(\u001b[0m \u001b[1;33m(\u001b[0m\u001b[0mdf\u001b[0m\u001b[1;33m[\u001b[0m\u001b[1;34m'ema12'\u001b[0m\u001b[1;33m]\u001b[0m\u001b[1;33m>\u001b[0m \u001b[0mdf\u001b[0m\u001b[1;33m[\u001b[0m\u001b[1;34m'ema26'\u001b[0m\u001b[1;33m]\u001b[0m\u001b[1;33m)\u001b[0m\u001b[1;33m,\u001b[0m \u001b[1;36m1\u001b[0m\u001b[1;33m,\u001b[0m \u001b[1;36m0\u001b[0m\u001b[1;33m)\u001b[0m\u001b[1;33m\u001b[0m\u001b[1;33m\u001b[0m\u001b[0m\n\u001b[0m\u001b[0;32m      2\u001b[0m \u001b[0mdf\u001b[0m\u001b[1;33m[\u001b[0m\u001b[1;34m'Sell'\u001b[0m\u001b[1;33m]\u001b[0m \u001b[1;33m=\u001b[0m \u001b[0mnp\u001b[0m\u001b[1;33m.\u001b[0m\u001b[0mwhere\u001b[0m\u001b[1;33m(\u001b[0m \u001b[1;33m(\u001b[0m\u001b[0mdf\u001b[0m\u001b[1;33m[\u001b[0m\u001b[1;34m'ema12'\u001b[0m\u001b[1;33m]\u001b[0m\u001b[1;33m<\u001b[0m \u001b[0mdf\u001b[0m\u001b[1;33m[\u001b[0m\u001b[1;34m'ema26'\u001b[0m\u001b[1;33m]\u001b[0m\u001b[1;33m)\u001b[0m\u001b[1;33m,\u001b[0m \u001b[1;36m1\u001b[0m\u001b[1;33m,\u001b[0m \u001b[1;36m0\u001b[0m\u001b[1;33m)\u001b[0m\u001b[1;33m\u001b[0m\u001b[1;33m\u001b[0m\u001b[0m\n",
      "\u001b[1;32m~\\anaconda3\\lib\\site-packages\\pandas\\core\\frame.py\u001b[0m in \u001b[0;36m__getitem__\u001b[1;34m(self, key)\u001b[0m\n\u001b[0;32m   2798\u001b[0m             \u001b[1;32mif\u001b[0m \u001b[0mself\u001b[0m\u001b[1;33m.\u001b[0m\u001b[0mcolumns\u001b[0m\u001b[1;33m.\u001b[0m\u001b[0mnlevels\u001b[0m \u001b[1;33m>\u001b[0m \u001b[1;36m1\u001b[0m\u001b[1;33m:\u001b[0m\u001b[1;33m\u001b[0m\u001b[1;33m\u001b[0m\u001b[0m\n\u001b[0;32m   2799\u001b[0m                 \u001b[1;32mreturn\u001b[0m \u001b[0mself\u001b[0m\u001b[1;33m.\u001b[0m\u001b[0m_getitem_multilevel\u001b[0m\u001b[1;33m(\u001b[0m\u001b[0mkey\u001b[0m\u001b[1;33m)\u001b[0m\u001b[1;33m\u001b[0m\u001b[1;33m\u001b[0m\u001b[0m\n\u001b[1;32m-> 2800\u001b[1;33m             \u001b[0mindexer\u001b[0m \u001b[1;33m=\u001b[0m \u001b[0mself\u001b[0m\u001b[1;33m.\u001b[0m\u001b[0mcolumns\u001b[0m\u001b[1;33m.\u001b[0m\u001b[0mget_loc\u001b[0m\u001b[1;33m(\u001b[0m\u001b[0mkey\u001b[0m\u001b[1;33m)\u001b[0m\u001b[1;33m\u001b[0m\u001b[1;33m\u001b[0m\u001b[0m\n\u001b[0m\u001b[0;32m   2801\u001b[0m             \u001b[1;32mif\u001b[0m \u001b[0mis_integer\u001b[0m\u001b[1;33m(\u001b[0m\u001b[0mindexer\u001b[0m\u001b[1;33m)\u001b[0m\u001b[1;33m:\u001b[0m\u001b[1;33m\u001b[0m\u001b[1;33m\u001b[0m\u001b[0m\n\u001b[0;32m   2802\u001b[0m                 \u001b[0mindexer\u001b[0m \u001b[1;33m=\u001b[0m \u001b[1;33m[\u001b[0m\u001b[0mindexer\u001b[0m\u001b[1;33m]\u001b[0m\u001b[1;33m\u001b[0m\u001b[1;33m\u001b[0m\u001b[0m\n",
      "\u001b[1;32m~\\anaconda3\\lib\\site-packages\\pandas\\core\\indexes\\base.py\u001b[0m in \u001b[0;36mget_loc\u001b[1;34m(self, key, method, tolerance)\u001b[0m\n\u001b[0;32m   2646\u001b[0m                 \u001b[1;32mreturn\u001b[0m \u001b[0mself\u001b[0m\u001b[1;33m.\u001b[0m\u001b[0m_engine\u001b[0m\u001b[1;33m.\u001b[0m\u001b[0mget_loc\u001b[0m\u001b[1;33m(\u001b[0m\u001b[0mkey\u001b[0m\u001b[1;33m)\u001b[0m\u001b[1;33m\u001b[0m\u001b[1;33m\u001b[0m\u001b[0m\n\u001b[0;32m   2647\u001b[0m             \u001b[1;32mexcept\u001b[0m \u001b[0mKeyError\u001b[0m\u001b[1;33m:\u001b[0m\u001b[1;33m\u001b[0m\u001b[1;33m\u001b[0m\u001b[0m\n\u001b[1;32m-> 2648\u001b[1;33m                 \u001b[1;32mreturn\u001b[0m \u001b[0mself\u001b[0m\u001b[1;33m.\u001b[0m\u001b[0m_engine\u001b[0m\u001b[1;33m.\u001b[0m\u001b[0mget_loc\u001b[0m\u001b[1;33m(\u001b[0m\u001b[0mself\u001b[0m\u001b[1;33m.\u001b[0m\u001b[0m_maybe_cast_indexer\u001b[0m\u001b[1;33m(\u001b[0m\u001b[0mkey\u001b[0m\u001b[1;33m)\u001b[0m\u001b[1;33m)\u001b[0m\u001b[1;33m\u001b[0m\u001b[1;33m\u001b[0m\u001b[0m\n\u001b[0m\u001b[0;32m   2649\u001b[0m         \u001b[0mindexer\u001b[0m \u001b[1;33m=\u001b[0m \u001b[0mself\u001b[0m\u001b[1;33m.\u001b[0m\u001b[0mget_indexer\u001b[0m\u001b[1;33m(\u001b[0m\u001b[1;33m[\u001b[0m\u001b[0mkey\u001b[0m\u001b[1;33m]\u001b[0m\u001b[1;33m,\u001b[0m \u001b[0mmethod\u001b[0m\u001b[1;33m=\u001b[0m\u001b[0mmethod\u001b[0m\u001b[1;33m,\u001b[0m \u001b[0mtolerance\u001b[0m\u001b[1;33m=\u001b[0m\u001b[0mtolerance\u001b[0m\u001b[1;33m)\u001b[0m\u001b[1;33m\u001b[0m\u001b[1;33m\u001b[0m\u001b[0m\n\u001b[0;32m   2650\u001b[0m         \u001b[1;32mif\u001b[0m \u001b[0mindexer\u001b[0m\u001b[1;33m.\u001b[0m\u001b[0mndim\u001b[0m \u001b[1;33m>\u001b[0m \u001b[1;36m1\u001b[0m \u001b[1;32mor\u001b[0m \u001b[0mindexer\u001b[0m\u001b[1;33m.\u001b[0m\u001b[0msize\u001b[0m \u001b[1;33m>\u001b[0m \u001b[1;36m1\u001b[0m\u001b[1;33m:\u001b[0m\u001b[1;33m\u001b[0m\u001b[1;33m\u001b[0m\u001b[0m\n",
      "\u001b[1;32mpandas\\_libs\\index.pyx\u001b[0m in \u001b[0;36mpandas._libs.index.IndexEngine.get_loc\u001b[1;34m()\u001b[0m\n",
      "\u001b[1;32mpandas\\_libs\\index.pyx\u001b[0m in \u001b[0;36mpandas._libs.index.IndexEngine.get_loc\u001b[1;34m()\u001b[0m\n",
      "\u001b[1;32mpandas\\_libs\\hashtable_class_helper.pxi\u001b[0m in \u001b[0;36mpandas._libs.hashtable.PyObjectHashTable.get_item\u001b[1;34m()\u001b[0m\n",
      "\u001b[1;32mpandas\\_libs\\hashtable_class_helper.pxi\u001b[0m in \u001b[0;36mpandas._libs.hashtable.PyObjectHashTable.get_item\u001b[1;34m()\u001b[0m\n",
      "\u001b[1;31mKeyError\u001b[0m: 'ema12'"
     ]
    }
   ],
   "source": [
    "df['Buy'] = np.where( (df['ema12']> df['ema26']), 1, 0) #ถ้า ema 12 > 26 ใช่ 1 ไม่ใช่ 0\n",
    "df['Sell'] = np.where( (df['ema12']< df['ema26']), 1, 0)"
   ]
  },
  {
   "cell_type": "code",
   "execution_count": 6,
   "metadata": {},
   "outputs": [],
   "source": [
    "df = df.drop(columns=['O', 'H', 'L', 'V'])"
   ]
  },
  {
   "cell_type": "code",
   "execution_count": 7,
   "metadata": {},
   "outputs": [],
   "source": [
    "df['Buy_ind'] = np.where( (df['Buy'] > df['Buy'].shift(1)),1,0) #ถ้าเจอ 1 ซ้ำติดกัน2ตัวขึ้นไป ให้เปลี่ยนเป็น 0\n",
    "df['Sell_ind'] = np.where( (df['Sell'] > df['Sell'].shift(1)),1,0)"
   ]
  },
  {
   "cell_type": "code",
   "execution_count": 8,
   "metadata": {},
   "outputs": [],
   "source": [
    "df[\"Buy_ind\"].replace({1: \"long\"}, inplace=True) #เปลี่ยนชื่อ\n",
    "df[\"Sell_ind\"].replace({1: \"short\"}, inplace=True)"
   ]
  },
  {
   "cell_type": "code",
   "execution_count": 9,
   "metadata": {},
   "outputs": [],
   "source": [
    "df['Sell_ind'].replace(0, np.nan, inplace=True)\n",
    "df['Buy_ind'].replace(0, np.nan, inplace=True)"
   ]
  },
  {
   "cell_type": "code",
   "execution_count": 10,
   "metadata": {},
   "outputs": [],
   "source": [
    "df['signal'] = df[\"Buy_ind\"].combine_first(df[\"Sell_ind\"]) #รวม short long เป็น column ตัวกัน"
   ]
  },
  {
   "cell_type": "code",
   "execution_count": 11,
   "metadata": {},
   "outputs": [
    {
     "data": {
      "text/plain": [
       "short    163\n",
       "long     163\n",
       "Name: signal, dtype: int64"
      ]
     },
     "execution_count": 11,
     "metadata": {},
     "output_type": "execute_result"
    }
   ],
   "source": [
    "df['signal'].value_counts()"
   ]
  },
  {
   "cell_type": "code",
   "execution_count": 12,
   "metadata": {},
   "outputs": [],
   "source": [
    "df[\"signal\"].fillna('0', inplace = True)"
   ]
  },
  {
   "cell_type": "code",
   "execution_count": 13,
   "metadata": {},
   "outputs": [],
   "source": [
    "df = df.drop(columns=['Buy', 'Sell', 'Buy_ind', 'Sell_ind'])"
   ]
  },
  {
   "cell_type": "code",
   "execution_count": 14,
   "metadata": {},
   "outputs": [
    {
     "data": {
      "text/html": [
       "<div>\n",
       "<style scoped>\n",
       "    .dataframe tbody tr th:only-of-type {\n",
       "        vertical-align: middle;\n",
       "    }\n",
       "\n",
       "    .dataframe tbody tr th {\n",
       "        vertical-align: top;\n",
       "    }\n",
       "\n",
       "    .dataframe thead th {\n",
       "        text-align: right;\n",
       "    }\n",
       "</style>\n",
       "<table border=\"1\" class=\"dataframe\">\n",
       "  <thead>\n",
       "    <tr style=\"text-align: right;\">\n",
       "      <th></th>\n",
       "      <th>T</th>\n",
       "      <th>C</th>\n",
       "      <th>ema12</th>\n",
       "      <th>ema26</th>\n",
       "      <th>signal</th>\n",
       "    </tr>\n",
       "  </thead>\n",
       "  <tbody>\n",
       "    <tr>\n",
       "      <th>1</th>\n",
       "      <td>2015-09-25 16:00:00</td>\n",
       "      <td>236.10</td>\n",
       "      <td>236.303077</td>\n",
       "      <td>236.322222</td>\n",
       "      <td>short</td>\n",
       "    </tr>\n",
       "    <tr>\n",
       "      <th>17</th>\n",
       "      <td>2015-09-28 08:00:00</td>\n",
       "      <td>239.16</td>\n",
       "      <td>235.369263</td>\n",
       "      <td>235.329196</td>\n",
       "      <td>long</td>\n",
       "    </tr>\n",
       "    <tr>\n",
       "      <th>254</th>\n",
       "      <td>2015-11-06 20:00:00</td>\n",
       "      <td>380.19</td>\n",
       "      <td>392.534007</td>\n",
       "      <td>393.002233</td>\n",
       "      <td>short</td>\n",
       "    </tr>\n",
       "    <tr>\n",
       "      <th>320</th>\n",
       "      <td>2015-11-17 20:00:00</td>\n",
       "      <td>338.53</td>\n",
       "      <td>333.257999</td>\n",
       "      <td>333.076917</td>\n",
       "      <td>long</td>\n",
       "    </tr>\n",
       "    <tr>\n",
       "      <th>331</th>\n",
       "      <td>2015-11-19 16:00:00</td>\n",
       "      <td>329.37</td>\n",
       "      <td>332.840667</td>\n",
       "      <td>333.147807</td>\n",
       "      <td>short</td>\n",
       "    </tr>\n",
       "    <tr>\n",
       "      <th>...</th>\n",
       "      <td>...</td>\n",
       "      <td>...</td>\n",
       "      <td>...</td>\n",
       "      <td>...</td>\n",
       "      <td>...</td>\n",
       "    </tr>\n",
       "    <tr>\n",
       "      <th>11627</th>\n",
       "      <td>2021-01-14 08:00:00</td>\n",
       "      <td>38534.00</td>\n",
       "      <td>36283.738081</td>\n",
       "      <td>36155.184012</td>\n",
       "      <td>long</td>\n",
       "    </tr>\n",
       "    <tr>\n",
       "      <th>11642</th>\n",
       "      <td>2021-01-16 20:00:00</td>\n",
       "      <td>36119.50</td>\n",
       "      <td>36846.601665</td>\n",
       "      <td>36849.100872</td>\n",
       "      <td>short</td>\n",
       "    </tr>\n",
       "    <tr>\n",
       "      <th>11657</th>\n",
       "      <td>2021-01-19 08:00:00</td>\n",
       "      <td>37130.00</td>\n",
       "      <td>36404.798427</td>\n",
       "      <td>36386.761751</td>\n",
       "      <td>long</td>\n",
       "    </tr>\n",
       "    <tr>\n",
       "      <th>11662</th>\n",
       "      <td>2021-01-20 04:00:00</td>\n",
       "      <td>35255.00</td>\n",
       "      <td>36267.327333</td>\n",
       "      <td>36338.569647</td>\n",
       "      <td>short</td>\n",
       "    </tr>\n",
       "    <tr>\n",
       "      <th>11715</th>\n",
       "      <td>2021-01-29 00:00:00</td>\n",
       "      <td>34050.00</td>\n",
       "      <td>32230.325002</td>\n",
       "      <td>32169.307057</td>\n",
       "      <td>long</td>\n",
       "    </tr>\n",
       "  </tbody>\n",
       "</table>\n",
       "<p>326 rows × 5 columns</p>\n",
       "</div>"
      ],
      "text/plain": [
       "                         T         C         ema12         ema26 signal\n",
       "1      2015-09-25 16:00:00    236.10    236.303077    236.322222  short\n",
       "17     2015-09-28 08:00:00    239.16    235.369263    235.329196   long\n",
       "254    2015-11-06 20:00:00    380.19    392.534007    393.002233  short\n",
       "320    2015-11-17 20:00:00    338.53    333.257999    333.076917   long\n",
       "331    2015-11-19 16:00:00    329.37    332.840667    333.147807  short\n",
       "...                    ...       ...           ...           ...    ...\n",
       "11627  2021-01-14 08:00:00  38534.00  36283.738081  36155.184012   long\n",
       "11642  2021-01-16 20:00:00  36119.50  36846.601665  36849.100872  short\n",
       "11657  2021-01-19 08:00:00  37130.00  36404.798427  36386.761751   long\n",
       "11662  2021-01-20 04:00:00  35255.00  36267.327333  36338.569647  short\n",
       "11715  2021-01-29 00:00:00  34050.00  32230.325002  32169.307057   long\n",
       "\n",
       "[326 rows x 5 columns]"
      ]
     },
     "execution_count": 14,
     "metadata": {},
     "output_type": "execute_result"
    }
   ],
   "source": [
    "df = df.loc[(df['signal'] == 'short') | (df['signal'] == 'long')]\n",
    "df"
   ]
  },
  {
   "cell_type": "code",
   "execution_count": 15,
   "metadata": {},
   "outputs": [],
   "source": [
    "# df.to_csv(r'C:\\Users\\sangh\\Documents\\bitmex_history\\easy-data-scripts\\backtest\\singnal_4h.csv', index = False, header=True)"
   ]
  },
  {
   "cell_type": "markdown",
   "metadata": {},
   "source": [
    "## calculate and plot graph signal"
   ]
  },
  {
   "cell_type": "code",
   "execution_count": 16,
   "metadata": {},
   "outputs": [],
   "source": [
    "df = df.reset_index()"
   ]
  },
  {
   "cell_type": "code",
   "execution_count": 17,
   "metadata": {},
   "outputs": [],
   "source": [
    "df = df.drop(columns=['index', 'ema12', 'ema26'])"
   ]
  },
  {
   "cell_type": "code",
   "execution_count": 18,
   "metadata": {},
   "outputs": [],
   "source": [
    "#price short inverse\n",
    "entry_value = 1/df[df.index % 2 == 0]['C']\n",
    "exit_value = 1/df[df.index % 2 == 1]['C']\n",
    "entry_value = entry_value.reset_index()\n",
    "entry_value = entry_value.drop(columns=['index'])\n",
    "exit_value = exit_value.reset_index()\n",
    "exit_value = exit_value.drop(columns=['index'])\n",
    "profit = entry_value-exit_value\n",
    "roe_short = (profit/entry_value)*100*-1\n",
    "roe_short['total'] = roe_short.cumsum()"
   ]
  },
  {
   "cell_type": "code",
   "execution_count": 19,
   "metadata": {},
   "outputs": [
    {
     "name": "stdout",
     "output_type": "stream",
     "text": [
      "Profit short inverse\n",
      "leverage = 1, quantity = 1\n",
      "ROE max : 52.46\n",
      "ROE min : -15.12\n",
      "ROE mean : 0.82\n",
      "ROE total : 133.96\n"
     ]
    },
    {
     "data": {
      "text/plain": [
       "<matplotlib.legend.Legend at 0x1bd56e7a348>"
      ]
     },
     "execution_count": 19,
     "metadata": {},
     "output_type": "execute_result"
    },
    {
     "data": {
      "image/png": "[encoded data removed]",
      "text/plain": [
       "<Figure size 432x288 with 1 Axes>"
      ]
     },
     "metadata": {
      "needs_background": "light"
     },
     "output_type": "display_data"
    }
   ],
   "source": [
    "print('Profit short inverse')\n",
    "print('leverage = 1, quantity = 1')\n",
    "print('ROE max : %.2f' % (roe_short.max().iloc[0]))\n",
    "print('ROE min : %.2f' % (roe_short.min().iloc[0]))\n",
    "print('ROE mean : %.2f' % (roe_short.mean().iloc[0]))\n",
    "print('ROE total : %.2f' % (roe_short.sum().iloc[0]))\n",
    "plt.plot(roe_short['total'], label='roe short invese(BTC)')\n",
    "plt.legend()"
   ]
  },
  {
   "cell_type": "code",
   "execution_count": 20,
   "metadata": {
    "scrolled": true
   },
   "outputs": [],
   "source": [
    "#price long inverse\n",
    "entry_value = 1/df[df.index % 2 == 1]['C']\n",
    "exit_value = 1/df[df.index % 2 == 0]['C']\n",
    "entry_value = entry_value.reset_index()\n",
    "entry_value = entry_value.drop(columns=['index'])\n",
    "entry_value = entry_value.drop(index=162)\n",
    "\n",
    "exit_value = exit_value.drop(index=0)\n",
    "exit_value = exit_value.reset_index()\n",
    "exit_value = exit_value.drop(columns=['index'])\n",
    "profit = entry_value-exit_value\n",
    "roe_long = profit/entry_value*100\n",
    "roe_long['total'] = roe_long.cumsum()"
   ]
  },
  {
   "cell_type": "code",
   "execution_count": 21,
   "metadata": {},
   "outputs": [
    {
     "name": "stdout",
     "output_type": "stream",
     "text": [
      "Profit long inverse\n",
      "leverage = 1, quantity = 1\n",
      "ROE max : 60.16\n",
      "ROE min : -14.19\n",
      "ROE mean : 2.76\n",
      "ROE total : 446.73\n"
     ]
    },
    {
     "data": {
      "text/plain": [
       "<matplotlib.legend.Legend at 0x1bd56ef9c08>"
      ]
     },
     "execution_count": 21,
     "metadata": {},
     "output_type": "execute_result"
    },
    {
     "data": {
      "image/png": "[encoded data removed]",
      "text/plain": [
       "<Figure size 432x288 with 1 Axes>"
      ]
     },
     "metadata": {
      "needs_background": "light"
     },
     "output_type": "display_data"
    }
   ],
   "source": [
    "print('Profit long inverse')\n",
    "print('leverage = 1, quantity = 1')\n",
    "print('ROE max : %.2f' % (roe_long.max().iloc[0]))\n",
    "print('ROE min : %.2f' % (roe_long.min().iloc[0]))\n",
    "print('ROE mean : %.2f' % (roe_long.mean().iloc[0]))\n",
    "print('ROE total : %.2f' % (roe_long.sum().iloc[0]))\n",
    "plt.plot(roe_long['total'], label='roe long invese(BTC)')\n",
    "plt.legend()"
   ]
  },
  {
   "cell_type": "code",
   "execution_count": 22,
   "metadata": {},
   "outputs": [],
   "source": [
    "#price short normal\n",
    "entry_value = df[df.index % 2 == 0]['C']\n",
    "exit_value = df[df.index % 2 == 1]['C']\n",
    "\n",
    "entry_value = entry_value.reset_index()\n",
    "entry_value = entry_value.drop(columns=['index'])\n",
    "\n",
    "exit_value = exit_value.reset_index()\n",
    "exit_value = exit_value.drop(columns=['index'])\n",
    "\n",
    "profit = entry_value-exit_value\n",
    "roe_short_nm = (profit/entry_value)*100*-1\n",
    "roe_short_nm['total'] = roe_short_nm.cumsum()"
   ]
  },
  {
   "cell_type": "code",
   "execution_count": 23,
   "metadata": {},
   "outputs": [
    {
     "name": "stdout",
     "output_type": "stream",
     "text": [
      "Profit long inverse\n",
      "leverage = 1, quantity = 1\n",
      "ROE max : 17.82\n",
      "ROE min : -34.41\n",
      "ROE mean : -0.25\n",
      "ROE total : -40.89\n"
     ]
    },
    {
     "data": {
      "text/plain": [
       "<matplotlib.legend.Legend at 0x1bd56f63d48>"
      ]
     },
     "execution_count": 23,
     "metadata": {},
     "output_type": "execute_result"
    },
    {
     "data": {
      "image/png": "[encoded data removed]",
      "text/plain": [
       "<Figure size 432x288 with 1 Axes>"
      ]
     },
     "metadata": {
      "needs_background": "light"
     },
     "output_type": "display_data"
    }
   ],
   "source": [
    "print('Profit long inverse')\n",
    "print('leverage = 1, quantity = 1')\n",
    "print('ROE max : %.2f' % (roe_short_nm.max().iloc[0]))\n",
    "print('ROE min : %.2f' % (roe_short_nm.min().iloc[0]))\n",
    "print('ROE mean : %.2f' % (roe_short_nm.mean().iloc[0]))\n",
    "print('ROE total : %.2f' % (roe_short_nm.sum().iloc[0]))\n",
    "plt.plot(roe_short_nm['total'], label='roe short normal(USD)')\n",
    "plt.legend()"
   ]
  },
  {
   "cell_type": "code",
   "execution_count": 24,
   "metadata": {},
   "outputs": [],
   "source": [
    "#price long normal\n",
    "entry_price = df[df.index % 2 == 1]['C']\n",
    "exit_price = df[df.index % 2 == 0]['C']\n",
    "\n",
    "entry_price = entry_price.reset_index()\n",
    "entry_price = entry_price.drop(columns=['index'])\n",
    "entry_price = entry_price.drop(index=162)\n",
    "\n",
    "exit_price = exit_price.drop(index=0)\n",
    "exit_price = exit_price.reset_index()\n",
    "exit_price = exit_price.drop(columns=['index'])\n",
    "profit = exit_price-entry_price\n",
    "roe_long_nm = (profit/entry_price)*100\n",
    "roe_long_nm['total'] = roe_long_nm.cumsum()"
   ]
  },
  {
   "cell_type": "code",
   "execution_count": 25,
   "metadata": {},
   "outputs": [
    {
     "name": "stdout",
     "output_type": "stream",
     "text": [
      "Profit long normal\n",
      "leverage = 1, quantity = 1\n",
      "ROE max : 151.01\n",
      "ROE min : -12.43\n",
      "ROE mean : 4.76\n",
      "ROE total : 770.72\n"
     ]
    },
    {
     "data": {
      "text/plain": [
       "<matplotlib.legend.Legend at 0x1bd56eee808>"
      ]
     },
     "execution_count": 25,
     "metadata": {},
     "output_type": "execute_result"
    },
    {
     "data": {
      "image/png": "[encoded data removed]",
      "text/plain": [
       "<Figure size 432x288 with 1 Axes>"
      ]
     },
     "metadata": {
      "needs_background": "light"
     },
     "output_type": "display_data"
    }
   ],
   "source": [
    "print('Profit long normal')\n",
    "print('leverage = 1, quantity = 1')\n",
    "print('ROE max : %.2f' % (roe_long_nm.max().iloc[0]))\n",
    "print('ROE min : %.2f' % (roe_long_nm.min().iloc[0]))\n",
    "print('ROE mean : %.2f' % (roe_long_nm.mean().iloc[0]))\n",
    "print('ROE total : %.2f' % (roe_long_nm.sum().iloc[0]))\n",
    "plt.plot(roe_long_nm['total'], label='roe long normal(USD)')\n",
    "plt.legend()"
   ]
  },
  {
   "cell_type": "code",
   "execution_count": 26,
   "metadata": {},
   "outputs": [
    {
     "data": {
      "text/plain": [
       "<matplotlib.legend.Legend at 0x1bd58079b08>"
      ]
     },
     "execution_count": 26,
     "metadata": {},
     "output_type": "execute_result"
    },
    {
     "data": {
      "image/png": "[encoded data removed]",
      "text/plain": [
       "<Figure size 432x288 with 1 Axes>"
      ]
     },
     "metadata": {
      "needs_background": "light"
     },
     "output_type": "display_data"
    }
   ],
   "source": [
    "plt.plot(roe_short['total'], label='roe short invese(BTC)')\n",
    "plt.plot(roe_long['total'], label='roe long invese(BTC)')\n",
    "plt.plot(roe_long_nm['total'], label='roe long normal(USD)')\n",
    "plt.plot(roe_short_nm['total'], label='roe short normal(USD)')\n",
    "plt.legend()"
   ]
  },
  {
   "cell_type": "code",
   "execution_count": 39,
   "metadata": {},
   "outputs": [
    {
     "name": "stdout",
     "output_type": "stream",
     "text": [
      "roe total 4 year 10 month : 580.69%\n",
      "roe avg per year : 120.98%\n"
     ]
    }
   ],
   "source": [
    "roe_per_year = roe_long['C'].sum() + roe_short['C'].sum()\n",
    "print('roe total 4 year 10 month : %.2f%%' % (roe_per_year))\n",
    "print('roe avg per year : %.2f%%' % (roe_per_year/4.8))"
   ]
  },
  {
   "cell_type": "code",
   "execution_count": 29,
   "metadata": {},
   "outputs": [
    {
     "data": {
      "text/html": [
       "<div>\n",
       "<style scoped>\n",
       "    .dataframe tbody tr th:only-of-type {\n",
       "        vertical-align: middle;\n",
       "    }\n",
       "\n",
       "    .dataframe tbody tr th {\n",
       "        vertical-align: top;\n",
       "    }\n",
       "\n",
       "    .dataframe thead th {\n",
       "        text-align: right;\n",
       "    }\n",
       "</style>\n",
       "<table border=\"1\" class=\"dataframe\">\n",
       "  <thead>\n",
       "    <tr style=\"text-align: right;\">\n",
       "      <th></th>\n",
       "      <th>T</th>\n",
       "      <th>C</th>\n",
       "      <th>signal</th>\n",
       "    </tr>\n",
       "  </thead>\n",
       "  <tbody>\n",
       "    <tr>\n",
       "      <th>0</th>\n",
       "      <td>2015-09-25 16:00:00</td>\n",
       "      <td>236.10</td>\n",
       "      <td>short</td>\n",
       "    </tr>\n",
       "    <tr>\n",
       "      <th>1</th>\n",
       "      <td>2015-09-28 08:00:00</td>\n",
       "      <td>239.16</td>\n",
       "      <td>long</td>\n",
       "    </tr>\n",
       "    <tr>\n",
       "      <th>2</th>\n",
       "      <td>2015-11-06 20:00:00</td>\n",
       "      <td>380.19</td>\n",
       "      <td>short</td>\n",
       "    </tr>\n",
       "    <tr>\n",
       "      <th>3</th>\n",
       "      <td>2015-11-17 20:00:00</td>\n",
       "      <td>338.53</td>\n",
       "      <td>long</td>\n",
       "    </tr>\n",
       "    <tr>\n",
       "      <th>4</th>\n",
       "      <td>2015-11-19 16:00:00</td>\n",
       "      <td>329.37</td>\n",
       "      <td>short</td>\n",
       "    </tr>\n",
       "    <tr>\n",
       "      <th>...</th>\n",
       "      <td>...</td>\n",
       "      <td>...</td>\n",
       "      <td>...</td>\n",
       "    </tr>\n",
       "    <tr>\n",
       "      <th>321</th>\n",
       "      <td>2021-01-14 08:00:00</td>\n",
       "      <td>38534.00</td>\n",
       "      <td>long</td>\n",
       "    </tr>\n",
       "    <tr>\n",
       "      <th>322</th>\n",
       "      <td>2021-01-16 20:00:00</td>\n",
       "      <td>36119.50</td>\n",
       "      <td>short</td>\n",
       "    </tr>\n",
       "    <tr>\n",
       "      <th>323</th>\n",
       "      <td>2021-01-19 08:00:00</td>\n",
       "      <td>37130.00</td>\n",
       "      <td>long</td>\n",
       "    </tr>\n",
       "    <tr>\n",
       "      <th>324</th>\n",
       "      <td>2021-01-20 04:00:00</td>\n",
       "      <td>35255.00</td>\n",
       "      <td>short</td>\n",
       "    </tr>\n",
       "    <tr>\n",
       "      <th>325</th>\n",
       "      <td>2021-01-29 00:00:00</td>\n",
       "      <td>34050.00</td>\n",
       "      <td>long</td>\n",
       "    </tr>\n",
       "  </tbody>\n",
       "</table>\n",
       "<p>326 rows × 3 columns</p>\n",
       "</div>"
      ],
      "text/plain": [
       "                       T         C signal\n",
       "0    2015-09-25 16:00:00    236.10  short\n",
       "1    2015-09-28 08:00:00    239.16   long\n",
       "2    2015-11-06 20:00:00    380.19  short\n",
       "3    2015-11-17 20:00:00    338.53   long\n",
       "4    2015-11-19 16:00:00    329.37  short\n",
       "..                   ...       ...    ...\n",
       "321  2021-01-14 08:00:00  38534.00   long\n",
       "322  2021-01-16 20:00:00  36119.50  short\n",
       "323  2021-01-19 08:00:00  37130.00   long\n",
       "324  2021-01-20 04:00:00  35255.00  short\n",
       "325  2021-01-29 00:00:00  34050.00   long\n",
       "\n",
       "[326 rows x 3 columns]"
      ]
     },
     "execution_count": 29,
     "metadata": {},
     "output_type": "execute_result"
    }
   ],
   "source": [
    "df"
   ]
  },
  {
   "cell_type": "code",
   "execution_count": null,
   "metadata": {},
   "outputs": [],
   "source": []
  }
 ],
 "metadata": {
  "kernelspec": {
   "display_name": "Python 3",
   "language": "python",
   "name": "python3"
  },
  "language_info": {
   "codemirror_mode": {
    "name": "ipython",
    "version": 3
   },
   "file_extension": ".py",
   "mimetype": "text/x-python",
   "name": "python",
   "nbconvert_exporter": "python",
   "pygments_lexer": "ipython3",
   "version": "3.7.6"
  }
 },
 "nbformat": 4,
 "nbformat_minor": 4
}
